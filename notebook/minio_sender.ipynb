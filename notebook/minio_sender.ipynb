{
 "cells": [
  {
   "attachments": {},
   "cell_type": "markdown",
   "metadata": {},
   "source": [
    "<h3>Introduction</h3>\n",
    "\n",
    "This project is a practical way to up csv data on MinIO buckets."
   ]
  },
  {
   "attachments": {},
   "cell_type": "markdown",
   "metadata": {},
   "source": [
    "On the next cells we go install the dependences of this project (pandas and minio libs) and import all libs hwo we need."
   ]
  },
  {
   "cell_type": "code",
   "execution_count": null,
   "metadata": {},
   "outputs": [],
   "source": [
    "#!/usr/bin/env python3\n",
    "! pip install minio==7.1.15\n",
    "! pip install pandas==2.0.2"
   ]
  },
  {
   "cell_type": "code",
   "execution_count": 1,
   "metadata": {},
   "outputs": [],
   "source": [
    "import os\n",
    "import pathlib\n",
    "from io import BytesIO\n",
    "from urllib.parse import urlparse\n",
    "\n",
    "import pandas as pd\n",
    "from minio import Minio"
   ]
  },
  {
   "attachments": {},
   "cell_type": "markdown",
   "metadata": {},
   "source": [
    "Here we go define the enviropments variables to be used on MinioSender class. The MinioSender() is the class for manage data using Minio SDK."
   ]
  },
  {
   "cell_type": "code",
   "execution_count": 8,
   "metadata": {},
   "outputs": [],
   "source": [
    "MINIO_URL= '' # we dont need use http here, try some like 'localhost:9001'\n",
    "MINIO_ACCESS_TOKEN= ''\n",
    "MINIO_SECRET_TOKEN= ''"
   ]
  },
  {
   "cell_type": "code",
   "execution_count": 9,
   "metadata": {},
   "outputs": [],
   "source": [
    "class MinioSender():\n",
    "\n",
    "    def __init__(self, url: str, access: str, secret: str) -> None:\n",
    "        self.url: str = url\n",
    "        self.access: str = access\n",
    "        self.secret: str = secret\n",
    "        self.secure: bool = False\n",
    "\n",
    "    def minio_client(self) -> Minio:\n",
    "        client: Minio = Minio(\n",
    "                self.url,\n",
    "                access_key=self.access,\n",
    "                secret_key=self.secret,\n",
    "                secure=self.secure\n",
    "            )\n",
    "\n",
    "        return client\n",
    "\n",
    "    def get_file_name(self, file_path: str) -> str:\n",
    "        filename: str = os.path.basename(urlparse(file_path).path)\n",
    "        return filename\n",
    "\n",
    "    def send_csv_file(self, file_path: str, bucket_name: str) -> None:\n",
    "        print(f'sending: {file_path} to {bucket_name} bucket!')\n",
    "        client: Minio = self.minio_client()\n",
    "        df = pd.read_csv(\n",
    "                filepath_or_buffer=str(file_path),\n",
    "                encoding='iso-8859-1',\n",
    "                sep=';',\n",
    "                header=None,\n",
    "                index_col=False,\n",
    "                low_memory=False\n",
    "            )\n",
    "        csv_bytes = df.to_csv().encode('utf-8')\n",
    "        csv_buffer = BytesIO(csv_bytes)\n",
    "\n",
    "        try:\n",
    "            client.put_object(\n",
    "                    bucket_name=bucket_name,\n",
    "                    object_name=str(self.get_file_name(file_path)),\n",
    "                    data=csv_buffer,\n",
    "                    length=len(csv_bytes),\n",
    "                    content_type='application/csv'\n",
    "                )\n",
    "        except Exception as exc:\n",
    "            print(exc)\n",
    "\n",
    "    def send_all_csv_files(self, folder_path: str, bucket_name: str) -> None:\n",
    "        folder_addr = pathlib.Path(folder_path)\n",
    "        for file in list(folder_addr.rglob('*csv')):\n",
    "            self.send_csv_file(file_path=str(file), bucket_name=bucket_name)\n"
   ]
  },
  {
   "attachments": {},
   "cell_type": "markdown",
   "metadata": {},
   "source": [
    "Here we inicalizing the MinioSender object and need define witch bucket we go work."
   ]
  },
  {
   "cell_type": "code",
   "execution_count": 10,
   "metadata": {},
   "outputs": [],
   "source": [
    "sender = MinioSender(url=MINIO_URL, access=MINIO_ACCESS_TOKEN, secret=MINIO_SECRET_TOKEN)\n",
    "bucket_name = '' # write the bucket name from your minIO here"
   ]
  },
  {
   "attachments": {},
   "cell_type": "markdown",
   "metadata": {},
   "source": [
    "To send all csv files to the bucket run the next cell"
   ]
  },
  {
   "cell_type": "code",
   "execution_count": null,
   "metadata": {},
   "outputs": [],
   "source": [
    "folder_path:str = '' # write here the folder path to .csv files\n",
    "sender.send_all_csv_files(folder_path=folder_path, bucket_name=bucket_name)"
   ]
  },
  {
   "attachments": {},
   "cell_type": "markdown",
   "metadata": {},
   "source": [
    "To send an single csv file run the next cell"
   ]
  },
  {
   "cell_type": "code",
   "execution_count": null,
   "metadata": {},
   "outputs": [],
   "source": [
    "file_path:str = '' # write here the file path to .csv files\n",
    "sender.send_csv_file(file_path=file_path, bucket_name=bucket_name)"
   ]
  }
 ],
 "metadata": {
  "kernelspec": {
   "display_name": "minio-sender-NxfOt3fO-py3.11",
   "language": "python",
   "name": "python3"
  },
  "language_info": {
   "codemirror_mode": {
    "name": "ipython",
    "version": 3
   },
   "file_extension": ".py",
   "mimetype": "text/x-python",
   "name": "python",
   "nbconvert_exporter": "python",
   "pygments_lexer": "ipython3",
   "version": "3.11.3"
  },
  "orig_nbformat": 4
 },
 "nbformat": 4,
 "nbformat_minor": 2
}
